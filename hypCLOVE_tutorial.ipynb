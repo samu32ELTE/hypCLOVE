{
 "cells": [
  {
   "cell_type": "markdown",
   "id": "5cfca306",
   "metadata": {},
   "source": [
    "# CLOVE Package Tutorial\n",
    "\n",
    "This notebook explores the key features and the basic usage of the hypCLOVE library, which allows for the embedding of networks into 2D hyperbolic space with exceptional efficiency in terms of runtime.\n",
    "\n",
    "For more in-depth information about the package, please refer to the CLOVE article \n",
    "[here](https://www.nature.com/articles/s42005-025-02306-8)\n",
    "\n"
   ]
  },
  {
   "cell_type": "markdown",
   "id": "acb0e936-85df-4f86-904c-c75a5bfbc52c",
   "metadata": {},
   "source": [
    "# Basic usage of CLOVE"
   ]
  },
  {
   "cell_type": "markdown",
   "id": "aff53127",
   "metadata": {},
   "source": [
    "## Importing CLOVE"
   ]
  },
  {
   "cell_type": "code",
   "execution_count": 2,
   "id": "49e84f58",
   "metadata": {},
   "outputs": [],
   "source": [
    "# If the CLOVE package is already installed, you can import it like this:\n",
    "import hypCLOVE.hypCLOVE as clove"
   ]
  },
  {
   "cell_type": "markdown",
   "id": "ff8f0d1d",
   "metadata": {},
   "source": [
    "## Running default CLOVE"
   ]
  },
  {
   "cell_type": "code",
   "execution_count": 65,
   "id": "1224ece9",
   "metadata": {},
   "outputs": [],
   "source": [
    "# How to Embed a Graph Using .embed from the clove Module\n",
    "\n",
    "# Example:\n",
    "# - First, generate a Barabási-Albert graph using NetworkX:\n",
    "import networkx as nx\n",
    "\n",
    "G = nx.barabasi_albert_graph(n=20, m=2)\n",
    "\n",
    "# Now, lets embed the previous Barabási-Albert graph into 2D hyperbolic space by using the `clove.embed` method.\n",
    "#   The simplest usage only requires passing the `nx.Graph` object. By default, `inplace=False`.\n",
    "#   If `inplace=True`, the graph `G` will be modified with the coordinates directly.\n",
    "\n",
    "embedding = clove.embed(G)"
   ]
  },
  {
   "cell_type": "code",
   "execution_count": 66,
   "id": "2f5dd37d",
   "metadata": {},
   "outputs": [
    {
     "data": {
      "text/plain": [
       "dict_keys(['coords', 'dendrogram', 'beta_inf', 'parameters'])"
      ]
     },
     "execution_count": 66,
     "metadata": {},
     "output_type": "execute_result"
    }
   ],
   "source": [
    "# When 'inplace' is set to False, the method returns a dictionary (embedding) with the following keys:\n",
    "\n",
    "# 1) 'beta_inf': the inferred popularity fading parameter, related to the degree exponent (g) as beta_inf = 1 + 1/g.\n",
    "# 2) 'dendrogram': the inferred multi-level community structure that determines the arrangement of the nodes.\n",
    "# 3) 'coords': the inferred cartesian coordinates of the nodes in the native representation of the hyperbolic disk. \n",
    "#     If 'return_cartesian' is set to False, 'coords' returns polar coordinates (first radial, second angular)\n",
    "# 4) 'parameters': all the parameters used during the fitting process.\n",
    "\n",
    "# display the returning keys\n",
    "embedding.keys()\n"
   ]
  },
  {
   "cell_type": "code",
   "execution_count": 67,
   "id": "1d5d8907",
   "metadata": {},
   "outputs": [
    {
     "data": {
      "text/plain": [
       "{0: [1.0584141087503849, 3.257463678015078],\n",
       " 1: [3.626226066295832e-16, 5.922076583747333],\n",
       " 2: [-1.8440336113647366, 0.5991628408478997],\n",
       " 3: [-2.8765994955423726, 3.5228183646448575e-16],\n",
       " 4: [3.6275837786491127, -1.178673419418089],\n",
       " 5: [-2.5643705821427147, -3.52955330664937],\n",
       " 6: [1.4126087784146335, -4.347562781795966],\n",
       " 7: [3.914671232394061, 1.2719537876811753],\n",
       " 8: [-5.143993550522885, -1.6713848218599243],\n",
       " 9: [-8.729163204406725e-16, -4.751935121475737],\n",
       " 10: [-1.6015514502681527, -4.929068532429443],\n",
       " 11: [4.08860744403692, 2.970547188412121],\n",
       " 12: [-3.2380888793851015, 4.456846990464417],\n",
       " 13: [3.2929476983119077, 4.532353677013674],\n",
       " 14: [-1.7581839979882767, 5.41113394593349],\n",
       " 15: [3.973299539626125, -2.886771092042503],\n",
       " 16: [-4.669333831613204, -3.3924696061212143],\n",
       " 17: [-4.731888735394559, 3.4379184040536543],\n",
       " 18: [3.1155178941538657, -4.288142502417807],\n",
       " 19: [5.991464547107982, 0.0]}"
      ]
     },
     "execution_count": 67,
     "metadata": {},
     "output_type": "execute_result"
    }
   ],
   "source": [
    "# print out the inferred coordinates for e.g. node 0\n",
    "embedding['coords']"
   ]
  },
  {
   "cell_type": "code",
   "execution_count": 68,
   "id": "7ee4d28a",
   "metadata": {},
   "outputs": [
    {
     "name": "stdout",
     "output_type": "stream",
     "text": [
      "Popularity fading parameter: 0.676384351884116, Inferred degree decay exponent: 2.478449342026364\n"
     ]
    }
   ],
   "source": [
    "# print out beta with the estimated degree scaling exponent ( 1 + 1 / beta)\n",
    "print(f\"Popularity fading parameter: {embedding['beta_inf']}, Inferred degree decay exponent: {1. + 1./embedding['beta_inf']}\")"
   ]
  },
  {
   "cell_type": "code",
   "execution_count": 69,
   "id": "051081d6",
   "metadata": {},
   "outputs": [
    {
     "data": {
      "text/plain": [
       "{0: {'coords': [2.0132232701315615, 2.7709641108809353]},\n",
       " 1: {'coords': [3.626226066295832e-16, 5.922076583747333]},\n",
       " 2: {'coords': [-1.8440336113647366, 0.5991628408478997]},\n",
       " 3: {'coords': [-2.8765994955423726, 3.5228183646448575e-16]},\n",
       " 4: {'coords': [3.6275837786491127, -1.178673419418089]},\n",
       " 5: {'coords': [-2.5643705821427147, -3.52955330664937]},\n",
       " 6: {'coords': [2.6869415673739483, -3.6982577946959823]},\n",
       " 7: {'coords': [3.914671232394061, 1.2719537876811753]},\n",
       " 8: {'coords': [-5.143993550522885, -1.6713848218599243]},\n",
       " 9: {'coords': [-8.729163204406725e-16, -4.751935121475737]},\n",
       " 10: {'coords': [-1.6015514502681527, -4.929068532429443]},\n",
       " 11: {'coords': [4.08860744403692, 2.970547188412121]},\n",
       " 12: {'coords': [-3.2380888793851015, 4.456846990464417]},\n",
       " 13: {'coords': [1.7312050555836607, 5.328101299044401]},\n",
       " 14: {'coords': [-1.7581839979882767, 5.41113394593349]},\n",
       " 15: {'coords': [3.973299539626125, -2.886771092042503]},\n",
       " 16: {'coords': [-4.669333831613204, -3.3924696061212143]},\n",
       " 17: {'coords': [-4.731888735394559, 3.4379184040536543]},\n",
       " 18: {'coords': [1.6379246873205726, -5.041013845299454]},\n",
       " 19: {'coords': [5.991464547107982, 0.0]}}"
      ]
     },
     "execution_count": 69,
     "metadata": {},
     "output_type": "execute_result"
    }
   ],
   "source": [
    "# if inplace = True the G graph is modified in place, and embed returns None\n",
    "none_embedding = clove.embed(G, inplace = True)\n",
    "dict(G.nodes(data=True))"
   ]
  },
  {
   "cell_type": "code",
   "execution_count": 70,
   "id": "551f4e99",
   "metadata": {},
   "outputs": [
    {
     "data": {
      "text/plain": [
       "True"
      ]
     },
     "execution_count": 70,
     "metadata": {},
     "output_type": "execute_result"
    }
   ],
   "source": [
    "none_embedding is None"
   ]
  },
  {
   "cell_type": "markdown",
   "id": "99e99bfd",
   "metadata": {},
   "source": [
    "#  In-Depth Overview of CLOVE Parameters\n",
    "\n"
   ]
  },
  {
   "cell_type": "code",
   "execution_count": 30,
   "id": "b50dd2b0",
   "metadata": {},
   "outputs": [
    {
     "data": {
      "text/plain": [
       "{'gamma': None,\n",
       " 'deg_fit_sample': None,\n",
       " 'dendrogram': None,\n",
       " 'local_partitioning': 'default function: hypCLOVE.Leiden',\n",
       " 'nodewise_level': 'degree_greedy',\n",
       " 'coarsening_method': 'default function: hypCLOVE.exponential_coarsening',\n",
       " 'anchor_num': 0,\n",
       " 'arrangement_method': 'tsp_christofides+ta',\n",
       " 'comm_sector_size_prop': 'node_num',\n",
       " 'k0_decomposition': False,\n",
       " 'k1_decomposition': False,\n",
       " 'cc_decomposition': True,\n",
       " 'return_cartesian': True,\n",
       " 'inplace': False,\n",
       " 'rad_assignement': 'default function: hypCLOVE.assign_PSO_radial_coordinates',\n",
       " 'seed': 345432659}"
      ]
     },
     "execution_count": 30,
     "metadata": {},
     "output_type": "execute_result"
    }
   ],
   "source": [
    "# print out the default input parameters\n",
    "embedding['parameters']"
   ]
  },
  {
   "cell_type": "markdown",
   "id": "d800d6fb",
   "metadata": {},
   "source": [
    "## Parameters & their descriptions\n",
    "\n",
    "### **`G`**  \n",
    "- **Type:** `nx.Graph`  \n",
    "- **Description:** The input network to be embedded.  \n",
    "\n",
    "---\n",
    "\n",
    "### **`gamma` (Degree Decay Exponent)**  \n",
    "- **Type:** `float` or `None`  \n",
    "- **Default:** `None`  \n",
    "- **Description:**  \n",
    "  - If `None`, the algorithm fits `gamma` based on the degree distribution.  \n",
    "  - Otherwise, a fixed value `gamma ∈ [0, ∞]` is used.  \n",
    "\n",
    "---\n",
    "\n",
    "### **`deg_fit_sample` (Degree Fitting Sample Size)**  \n",
    "- **Type:** `int`  \n",
    "- **Default:** `100`  \n",
    "- **Description:** Specifies how many node degrees are used to fit the degree distribution (only relevant if `gamma=None`).  \n",
    "\n",
    "---\n",
    "\n",
    "### **`dendrogram` (Multi-level Communities)**  \n",
    "- **Type:** list of `dict`-s or `None`  \n",
    "- **Default:** `None`  \n",
    "- **Description:**  \n",
    "  - If `None`, the algorithm automatically detects communities in a nested manner (recursively on induced subgraphs). \n",
    "  - Otherwise, a predefined dendrogram (as described [here](https://python-louvain.readthedocs.io/en/latest/api.html)) is used.\n",
    "  - When using CLOVE with a dendrogram, each node must have a community label at the lowest level of the dendrogram. Additionally, nodes at level zero must be indexed with consecutive integers starting from 0 up to N!\n",
    "\n",
    "---\n",
    "\n",
    "### **`local_partitioning` (Community Detection Method)**  \n",
    "- **Type:** `callable`  \n",
    "- **Default:** `Leiden`  \n",
    "- **Description:**  \n",
    "  - A function returning a dictionary where keys are nodes and values are their community labels.  \n",
    "  - If `dendrogram=None`, this method is used for community detection.  \n",
    "  - If both `dendrogram` and `local_partitioning` are `None`, the algorithm creates a dendrogram by Louvain.  \n",
    "---\n",
    "\n",
    "### **`coarsening_method` (Pre-weighting Scheme)**  \n",
    "- **Type:** `callable`  \n",
    "- **Default:** `exponential_coarsening`  \n",
    "- **Description:** Applies a pre-weighting scheme to the graph and to the subgrahs induced by the communities   \n",
    "\n",
    "---\n",
    "\n",
    "### **`anchor_num` (Anchor Communities)**  \n",
    "- **Type:** `int`  \n",
    "- **Default:** `1`  \n",
    "- **Description:** Controls how many higher-level communities (anchor nodes) are considered when arranging the (sub-)communities.  \n",
    "  - The minimum value is `0`.  \n",
    "  - The maximum is `rm = (q0 / 2) - 1`, where `q0` is the number of top-level communities.  \n",
    "\n",
    "---\n",
    "\n",
    "### **`arrangement_method` (Community Arrangement Algorithm)**  \n",
    "- **Type:** `str` or `callable`  \n",
    "- **Default:** `'tsp_christofides'`  \n",
    "- **Description:** Specifies the algorithm used to solve the **Traveling Salesman Problem (TSP)** for community ordering.  \n",
    "- **Built-in options:**\n",
    "  - `'tsp_christofides'`\n",
    "  - `'tsp_greedy'`\n",
    "  - `'tsp_simulated_annealing'`\n",
    "  - `'tsp_threshold_accepting'`\n",
    "  - A **custom callable function** returning a valid ordering.  \n",
    "\n",
    "\n",
    "  **Boosting Options:**\n",
    "  - `'sa'` → simulated annealing\n",
    "  - `'ta'` → threshold accepting\n",
    "  - example usage: e.g. 'christofides+sa' for boosting the christofides tsp solver\n",
    "\n",
    "---\n",
    "\n",
    "### **`nodewise_level` (Node Arrangement at Lowest Level)**  \n",
    "- **Type:** `str`  \n",
    "- **Default:** `'degree_greedy'`  \n",
    "- **Description:** Defines how nodes at the lowest-level communities are arranged.  \n",
    "- **Options:**  \n",
    "  - `'degree_greedy'` → Highest-degree node at the center, others sorted by decreasing degree.  \n",
    "  - `'random_equidistant'` →  Nodes are randomly placed, but equidistant.  \n",
    "  - `'nodewise_arrangement'` → Uses the method specified in `arrangement_method`.  \n",
    "  - `None` → No specific arrangement; nodes in the lowest-level of coumminities share the same angular coordinate.  \n",
    "\n",
    "---\n",
    "\n",
    "### **`comm_sector_size_prop` (Community Sector Sizing)**  \n",
    "- **Type:** `str`  \n",
    "- **Default:** `'node_num'`  \n",
    "- **Description:** Determines the size of angular sectors communities occupy.  \n",
    "- **Options:**  \n",
    "  - `'node_num'` → Proportional to the number of nodes in the community.  \n",
    "  - `'edge_num'` → Proportional to the number of edges in the community.  \n",
    "\n",
    "---\n",
    "\n",
    "### **`return_cartesian` (Coordinate Format)**  \n",
    "- **Type:** `bool`  \n",
    "- **Default:** `True`  \n",
    "- **Description:**  \n",
    "  - `True` → Returns coordinates in **Cartesian** format (x, y).  \n",
    "  - `False` → Returns coordinates in **Polar** format (r, θ).  \n",
    "\n",
    "---\n",
    "\n",
    "### **`inplace` (Modify Input Graph)**  \n",
    "- **Type:** `bool`  \n",
    "- **Default:** `False`  \n",
    "- **Description:**  \n",
    "  - `True` → Modifies `G` in place with the computed coordinates.  \n",
    "  - `False` → Returns computed values separately, leaving `G` unchanged.  \n",
    "\n",
    "---\n",
    "\n",
    "### **`cc_decomposition` (Handle Connected Components)**  \n",
    "- **Type:** `bool`  \n",
    "- **Default:** `True`  \n",
    "- **Description:**  \n",
    "  - If `True`, each connected component is arranged separately at the highest level.  \n",
    "  - Only applicable when `dendrogram=None`.  \n",
    "\n",
    "---\n",
    "\n",
    "### **`k0_decomposition` (Isolated Node Handling)**  \n",
    "- **Type:** `bool`  \n",
    "- **Default:** `False`  \n",
    "- **Description:**  \n",
    "  - If `True`, isolated nodes (degree `0`) are removed and assigned **random angular coordinates**.  \n",
    "  - Only applicable when `dendrogram=None`.  \n",
    "\n",
    "---\n",
    "\n",
    "### **`k1_decomposition` (Degree-1 Node Handling)**  \n",
    "- **Type:** `bool`  \n",
    "- **Default:** `False`  \n",
    "- **Description:**  \n",
    "  - If `True`, degree-1 nodes **inherit the angular coordinate** of their only neighbor.  \n",
    "  - Only applicable when `dendrogram=None`.  \n",
    "\n",
    "---\n",
    "\n",
    "### **`rad_assignment` (Radial Coordinate Assignment)**  \n",
    "- **Type:** `callable`  \n",
    "- **Default:** `assign_PSO_radial_coordinates`  \n",
    "- **Description:** A function that assigns radial coordinates to nodes.  \n",
    "\n",
    "---\n",
    "\n",
    "### **`seed` (Random Seed for Reproducibility)**  \n",
    "- **Type:** `int` or `None`  \n",
    "- **Default:** `None`  \n",
    "- **Description:** Sets a random seed for reproducibility of results.  \n"
   ]
  },
  {
   "cell_type": "markdown",
   "id": "f5447bc1",
   "metadata": {},
   "source": [
    "# Customizing community detection in CLOVE"
   ]
  },
  {
   "cell_type": "code",
   "execution_count": 42,
   "id": "58878e14",
   "metadata": {},
   "outputs": [],
   "source": [
    "# how to add a given community finding method (e. g. label prop.) for the local_partitioning parameter \n",
    "from networkx.algorithms import community as nx_community\n",
    "\n",
    "def Label_propagation(G, seed = None):\n",
    "    # seed is irrelavant, but required as a parameter\n",
    "    communities = nx_community.label_propagation_communities(G)\n",
    "    return {node: label for label, community in enumerate(communities) for node in community}\n",
    "\n",
    "embedding_LP = clove.embed(G, local_partitioning = Label_propagation)"
   ]
  },
  {
   "cell_type": "code",
   "execution_count": 43,
   "id": "b4270f6e",
   "metadata": {},
   "outputs": [
    {
     "data": {
      "text/plain": [
       "'custom function: Label_propagation'"
      ]
     },
     "execution_count": 43,
     "metadata": {},
     "output_type": "execute_result"
    }
   ],
   "source": [
    "# verify that the community finding algorithm above is indeed the Label prop.\n",
    "embedding_LP['parameters']['local_partitioning']"
   ]
  },
  {
   "cell_type": "code",
   "execution_count": 44,
   "id": "ebf0d4f5",
   "metadata": {},
   "outputs": [],
   "source": [
    "# Louvain is a built in option\n",
    "embedding = clove.embed(G, local_partitioning = clove.Louvain)\n",
    "\n",
    "# also works with local_partitioning = 'Louvain' or 'Leiden'\n",
    "embedding = clove.embed(G, local_partitioning = 'Louvain')\n"
   ]
  },
  {
   "cell_type": "markdown",
   "id": "40c7022a",
   "metadata": {},
   "source": [
    "## Using dendrograms"
   ]
  },
  {
   "cell_type": "code",
   "execution_count": 45,
   "id": "5a80a86b",
   "metadata": {},
   "outputs": [],
   "source": [
    "# By default, CLOVE automatically performs community detection. However, users can provide predefined communities,\n",
    "# which will be organized on the disk during embedding.\n",
    "# For example, users may choose to use a dendrogram generated by the Louvain algorithm.\n",
    "\n",
    "# Generate the multi-level Louvain dendrogram for the graph G\n",
    "Louvain_dendrogram = clove.generate_dendrogram(G)\n",
    "\n",
    "# Pass the generated Louvain dendrogram to CLOVE for embedding\n",
    "embedding = clove.embed(G, dendrogram = Louvain_dendrogram)\n",
    "\n",
    "# Users can also provide any previously generated dendrogram from CLOVE.\n",
    "# For instance, we can pass the dendrogram from Label Propagation, stored in embedding_LP from sect. 3\n",
    "embedding = clove.embed(G, dendrogram = embedding_LP['dendrogram'])\n",
    "\n",
    "# If both the local_partitioning and dendrogram parameters are set to None CLOVE defaults to creating a dendrogram using the Louvain method.\n",
    "embedding = clove.embed(G, dendrogram=None, local_partitioning=None)\n"
   ]
  },
  {
   "cell_type": "markdown",
   "id": "20dc06fa",
   "metadata": {},
   "source": [
    "# Seeding"
   ]
  },
  {
   "cell_type": "code",
   "execution_count": 46,
   "id": "8d681883",
   "metadata": {},
   "outputs": [],
   "source": [
    "# For reproducible results, use the seed parameter, which accepts integer values."
   ]
  },
  {
   "cell_type": "code",
   "execution_count": 47,
   "id": "36127a3a",
   "metadata": {},
   "outputs": [],
   "source": [
    "embedding1 = clove.embed(G, seed = 42)"
   ]
  },
  {
   "cell_type": "code",
   "execution_count": 48,
   "id": "70aec30d",
   "metadata": {},
   "outputs": [],
   "source": [
    "embedding2 = clove.embed(G, seed = 42)"
   ]
  },
  {
   "cell_type": "code",
   "execution_count": 49,
   "id": "07878d89",
   "metadata": {},
   "outputs": [],
   "source": [
    "embedding3 = clove.embed(G, seed = 0)"
   ]
  },
  {
   "cell_type": "code",
   "execution_count": 50,
   "id": "92611861",
   "metadata": {},
   "outputs": [
    {
     "data": {
      "text/plain": [
       "True"
      ]
     },
     "execution_count": 50,
     "metadata": {},
     "output_type": "execute_result"
    }
   ],
   "source": [
    "# should be True if seed is fixed\n",
    "embedding1 == embedding2"
   ]
  },
  {
   "cell_type": "code",
   "execution_count": 51,
   "id": "bcd8c9ce",
   "metadata": {},
   "outputs": [
    {
     "data": {
      "text/plain": [
       "False"
      ]
     },
     "execution_count": 51,
     "metadata": {},
     "output_type": "execute_result"
    }
   ],
   "source": [
    "# should be False if seeds are different\n",
    "embedding1 == embedding3"
   ]
  },
  {
   "cell_type": "code",
   "execution_count": 52,
   "id": "d3e426bd-4100-4bf8-81e8-9afb9c549964",
   "metadata": {},
   "outputs": [],
   "source": [
    "# seeding is compatible with the dendrogram mode\n",
    "embedding4 = clove.embed(G, dendrogram = embedding1['dendrogram'], seed = 42)"
   ]
  },
  {
   "cell_type": "code",
   "execution_count": 55,
   "id": "e842b69a-f037-4bcf-b70c-5f47dca4d89f",
   "metadata": {},
   "outputs": [
    {
     "data": {
      "text/plain": [
       "True"
      ]
     },
     "execution_count": 55,
     "metadata": {},
     "output_type": "execute_result"
    }
   ],
   "source": [
    "# seeding is compatible with the dendrogram mode if True\n",
    "embedding1['coords'] == embedding4['coords']"
   ]
  },
  {
   "cell_type": "markdown",
   "id": "f1936242",
   "metadata": {},
   "source": [
    "# Customize radial coordinate assignement"
   ]
  },
  {
   "cell_type": "code",
   "execution_count": 49,
   "id": "d07cb6bd",
   "metadata": {},
   "outputs": [],
   "source": [
    "import numpy as np\n",
    "\n",
    "def assign_random_radial_coordinates(G, beta):\n",
    "    # assigning random radial coordinates to the nodes\n",
    "    return np.random.rand(len(G.nodes))"
   ]
  },
  {
   "cell_type": "code",
   "execution_count": 50,
   "id": "b1e06141",
   "metadata": {},
   "outputs": [
    {
     "data": {
      "text/plain": [
       "'custom function: assign_random_radial_coordinates'"
      ]
     },
     "execution_count": 50,
     "metadata": {},
     "output_type": "execute_result"
    }
   ],
   "source": [
    "embedding_customrad = clove.embed(G, rad_assignement = assign_random_radial_coordinates)\n",
    "embedding_customrad['parameters']['rad_assignement']"
   ]
  },
  {
   "cell_type": "markdown",
   "id": "24b9af42-204c-49e0-9450-dc6cc992edf2",
   "metadata": {},
   "source": [
    "#  Customize community arrangement"
   ]
  },
  {
   "cell_type": "code",
   "execution_count": 58,
   "id": "94c1a583-2c79-49eb-befd-87daf4fabd6a",
   "metadata": {},
   "outputs": [],
   "source": [
    "import heapq\n",
    "import random\n",
    "import numpy as np\n",
    "\n",
    "# Arranging the communities with the minimum curvilinear automata (MCA)\n",
    "\n",
    "def MCA_TSP(G, seed = None):\n",
    "    \n",
    "    \"\"\"\n",
    "    Perform Prim's algorithm to find the Minimum Spanning Tree (MST) of a graph G.\n",
    "    \n",
    "    \"\"\"\n",
    "    all_mst_order, all_mst_weight = [],[]\n",
    "    \n",
    "    for i, component in enumerate(nx.connected_components(G)):\n",
    "        g = G.subgraph(component).copy()\n",
    "        nodes = list(g.nodes)\n",
    "        edges = list(g.edges(data=True))\n",
    "        \n",
    "        # Create an adjacency list representation of the graph\n",
    "        adj = {node: [] for node in nodes}\n",
    "        for u, v, weight in edges:\n",
    "            adj[u].append((v, weight['weight']))\n",
    "            adj[v].append((u, weight['weight']))\n",
    "\n",
    "        # Priority queue for edges, with weights as priority\n",
    "        pq, mst_order = [], []\n",
    "        # Track visited nodes using a set\n",
    "        visited = set()\n",
    "        # Total weight of the MST\n",
    "        mst_weight = 0\n",
    "            \n",
    "        start_node = np.random.choice(list(component))\n",
    "        \n",
    "        # Start the algorithm from the given start node\n",
    "        heapq.heappush(pq, (0, start_node))  # (weight, node)\n",
    "\n",
    "        # Perform Prim's algorithm\n",
    "        while pq:\n",
    "            weight, u = heapq.heappop(pq)  # Get the edge with the smallest weight\n",
    "            if u in visited:\n",
    "                continue  # Skip if the node is already visited\n",
    "\n",
    "            # Add the edge weight to the total MST weight\n",
    "            mst_weight += weight\n",
    "            if len(mst_order) > 0:\n",
    "                weight0 = G.get_edge_data(u, mst_order[0], default={'weight': -1.})['weight']  # Returns None if 'weight' is not found\n",
    "                weightn = G.get_edge_data(u, mst_order[-1], default={'weight': -1.})['weight']  # Returns None if 'weight' is not found\n",
    "                if weight0 > weightn:\n",
    "                    mst_order.append(u)\n",
    "                elif weightn > weight0:\n",
    "                    mst_order.insert(0, u)\n",
    "                else:\n",
    "                    if np.random.rand() >= 0.5:\n",
    "                        mst_order.append(u)\n",
    "                    else:\n",
    "                        mst_order.insert(0, u)\n",
    "            else:    \n",
    "                mst_order.append(u)\n",
    "            \n",
    "            # Mark the node as visited\n",
    "            visited.add(u)\n",
    "\n",
    "            # Explore all neighbors of the current node\n",
    "            for v, edge_weight in adj[u]:\n",
    "                if v not in visited:\n",
    "                    heapq.heappush(pq, (edge_weight, v))\n",
    "        \n",
    "        all_mst_order.append(mst_order)\n",
    "        all_mst_weight.append(mst_weight)\n",
    "    random.shuffle(all_mst_order)\n",
    "    return [item for sub_mst_order in all_mst_order for item in sub_mst_order]"
   ]
  },
  {
   "cell_type": "code",
   "execution_count": 59,
   "id": "b976310f-dd52-4d94-9fd2-51783db6d07e",
   "metadata": {},
   "outputs": [],
   "source": [
    "# instead of using an approximate solution for the TSP, we can use e.g. the minimum curvilinear automata to solve the arrangement of the communities\n",
    "embedding_clove_mca = clove.embed(G, arrangement_method = MCA_TSP, seed = 42)"
   ]
  },
  {
   "cell_type": "markdown",
   "id": "a6632769",
   "metadata": {},
   "source": [
    "# Special parameter configurations"
   ]
  },
  {
   "cell_type": "markdown",
   "id": "be89942d",
   "metadata": {},
   "source": [
    "## Fastest mode of CLOVE"
   ]
  },
  {
   "cell_type": "code",
   "execution_count": 63,
   "id": "59d5a538",
   "metadata": {},
   "outputs": [],
   "source": [
    "# CLOVE runs efficiently when the network has only a few communities and  the hierarchical structure of \n",
    "# nested communities is shallow. If you can find a high-quality dendrogram with such communities and\n",
    "# pass it to CLOVE, the runtime will be minimized. If you’re unable to do so, use the following parameters \n",
    "# detailed below to achieve the fastest performance (on average).\n",
    "\n",
    "embedding = clove.embed(G, anchor_num = 0, arrangement_method = 'tsp_greedy', nodewise_level='random_equidistant')\n",
    "\n",
    "# or with no nodewise level arrangement --> causes several nodes to have the same angular coordinates though\n",
    "embedding = clove.embed(G, anchor_num = 0, arrangement_method = 'tsp_greedy', nodewise_level=None)\n",
    "\n",
    "# in some cases, (some) decomposition schemes can also help reducing running times very efficiently\n",
    "embedding = clove.embed(G, anchor_num = 0, arrangement_method = 'tsp_greedy', nodewise_level='random_equidistant',\n",
    "                    k0_decomposition = True, k1_decomposition = True, cc_decomposition = True)\n",
    "\n",
    "# MCA-TSP solver is quite fast too\n",
    "embedding_clove_mca = clove.embed(G, arrangement_method = MCA_TSP)"
   ]
  },
  {
   "cell_type": "markdown",
   "id": "a887974d",
   "metadata": {},
   "source": [
    "## How to increase the quality of embeddings"
   ]
  },
  {
   "cell_type": "code",
   "execution_count": 64,
   "id": "b54972e8",
   "metadata": {},
   "outputs": [],
   "source": [
    "# increase the number of anchors parameter\n",
    "embedding = clove.embed(G, anchor_num = 3)\n",
    "\n",
    "# using sa boosting in the tsp solver instead of ta might increase quality\n",
    "embedding = clove.embed(G, arrangement_method = 'tsp_christofides+sa')\n",
    "\n",
    "# use TSP on the lowest level of communities (can increase runtime)\n",
    "embedding = clove.embed(G, nodewise_level='nodewise_arrangement')\n",
    "\n",
    "# or combine the above\n",
    "embedding = clove.embed(G, anchor_num=3, arrangement_method='tsp_christofides+sa', nodewise_level='nodewise_arrangement')"
   ]
  },
  {
   "cell_type": "markdown",
   "id": "5a7509c6",
   "metadata": {},
   "source": [
    "## Warnings"
   ]
  },
  {
   "cell_type": "code",
   "execution_count": 62,
   "id": "9c45f1e4",
   "metadata": {},
   "outputs": [],
   "source": [
    "# if the anchor_num parameter controlling the number of 'anchor' nodes is set to a too large value,\n",
    "# the program automatically adjust it to a reasonable value while giving warning (see below)\n",
    "embedding = clove.embed(G, anchor_num = 10)"
   ]
  },
  {
   "cell_type": "code",
   "execution_count": null,
   "id": "cf124db8-d356-4e20-b32c-729643a73da0",
   "metadata": {},
   "outputs": [],
   "source": []
  }
 ],
 "metadata": {
  "kernelspec": {
   "display_name": "Python 3 (ipykernel)",
   "language": "python",
   "name": "python3"
  },
  "language_info": {
   "codemirror_mode": {
    "name": "ipython",
    "version": 3
   },
   "file_extension": ".py",
   "mimetype": "text/x-python",
   "name": "python",
   "nbconvert_exporter": "python",
   "pygments_lexer": "ipython3",
   "version": "3.9.2"
  },
  "toc": {
   "base_numbering": 1,
   "nav_menu": {},
   "number_sections": true,
   "sideBar": true,
   "skip_h1_title": false,
   "title_cell": "Table of Contents",
   "title_sidebar": "Contents",
   "toc_cell": false,
   "toc_position": {},
   "toc_section_display": true,
   "toc_window_display": false
  }
 },
 "nbformat": 4,
 "nbformat_minor": 5
}
